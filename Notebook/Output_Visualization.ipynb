{
 "cells": [
  {
   "cell_type": "code",
   "execution_count": 1,
   "id": "2ae55319",
   "metadata": {},
   "outputs": [
    {
     "name": "stderr",
     "output_type": "stream",
     "text": [
      "/home/vibhanshu92/.local/lib/python3.10/site-packages/matplotlib/projections/__init__.py:63: UserWarning: Unable to import Axes3D. This may be due to multiple versions of Matplotlib being installed (e.g. as a system package and as a pip package). As a result, the 3D projection is not available.\n",
      "  warnings.warn(\"Unable to import Axes3D. This may be due to multiple versions of \"\n"
     ]
    }
   ],
   "source": [
    "import json\n",
    "import time\n",
    "import os\n",
    "import sys\n",
    "import random\n",
    "from datetime import datetime\n",
    "from typing import Dict, Any, List\n",
    "import pandas as pd\n",
    "from IPython.display import display, HTML, JSON, Markdown\n",
    "import matplotlib.pyplot as plt\n",
    "import seaborn as sns\n",
    "from loguru import logger"
   ]
  },
  {
   "cell_type": "code",
   "execution_count": 2,
   "id": "8aebd23f",
   "metadata": {},
   "outputs": [
    {
     "name": "stdout",
     "output_type": "stream",
     "text": [
      "✅ All imports loaded successfully!\n"
     ]
    }
   ],
   "source": [
    "plt.style.use('seaborn-v0_8')\n",
    "sns.set_palette(\"husl\")\n",
    "\n",
    "print(\"✅ All imports loaded successfully!\")"
   ]
  },
  {
   "cell_type": "code",
   "execution_count": 3,
   "id": "5b2bd081",
   "metadata": {},
   "outputs": [
    {
     "name": "stdout",
     "output_type": "stream",
     "text": [
      "🚀 Running Twitter Financial Flow Demo...\n"
     ]
    },
    {
     "data": {
      "text/html": [
       "\n",
       "        <div style=\"background: linear-gradient(135deg, #667eea 0%, #764ba2 100%); \n",
       "                    padding: 20px; border-radius: 10px; color: white; text-align: center;\">\n",
       "            <h1>🚀 CrowdWisdomTrading AI Agent</h1>\n",
       "            <h2>Twitter Financial Markets User Finder</h2>\n",
       "            <p style=\"font-size: 16px; margin-top: 15px;\">\n",
       "                CrewAI-powered multi-agent system for discovering financial content creators\n",
       "            </p>\n",
       "            <p style=\"font-size: 14px; color: #ffd700; margin-top: 10px;\">\n",
       "                Statistics and user count now match\n",
       "            </p>\n",
       "        </div>\n",
       "        "
      ],
      "text/plain": [
       "<IPython.core.display.HTML object>"
      ]
     },
     "metadata": {},
     "output_type": "display_data"
    },
    {
     "data": {
      "text/html": [
       "\n",
       "        <div style=\"background: #f8f9fa; padding: 20px; border-radius: 8px; margin: 20px 0;\">\n",
       "            <h3>🏗️ System Architecture</h3>\n",
       "            <div style=\"display: flex; justify-content: space-around; margin: 20px 0;\">\n",
       "                <div style=\"text-align: center; padding: 15px; background: #e3f2fd; border-radius: 8px;\">\n",
       "                    <h4>📝 Keyword Agent</h4>\n",
       "                    <p>Generates financial market search terms</p>\n",
       "                </div>\n",
       "                <div style=\"text-align: center; padding: 15px; background: #f3e5f5; border-radius: 8px;\">\n",
       "                    <h4>🔍 Search Agent</h4>\n",
       "                    <p>Finds Twitter users posting financial content</p>\n",
       "                </div>\n",
       "                <div style=\"text-align: center; padding: 15px; background: #e8f5e8; border-radius: 8px;\">\n",
       "                    <h4>📊 Formatter Agent</h4>\n",
       "                    <p>Structures results into JSON format</p>\n",
       "                </div>\n",
       "            </div>\n",
       "        </div>\n",
       "        "
      ],
      "text/plain": [
       "<IPython.core.display.HTML object>"
      ]
     },
     "metadata": {},
     "output_type": "display_data"
    },
    {
     "name": "stdout",
     "output_type": "stream",
     "text": [
      "\u001b[32m19:04:14\u001b[0m | \u001b[1mINFO    \u001b[0m | 🚀 Starting Twitter Financial Flow Demo \n"
     ]
    },
    {
     "data": {
      "text/html": [
       "\n",
       "        <div style=\"background: #fff3cd; padding: 15px; border-radius: 8px; margin: 10px 0; border-left: 4px solid #ffc107;\">\n",
       "            <h4>⚡ Keyword Generation</h4>\n",
       "            <p>CrewAI Keyword Agent generating optimized search terms for US financial markets</p>\n",
       "            <div style=\"background: #ffc107; height: 4px; border-radius: 2px; animation: pulse 1s infinite;\"></div>\n",
       "        </div>\n",
       "        "
      ],
      "text/plain": [
       "<IPython.core.display.HTML object>"
      ]
     },
     "metadata": {},
     "output_type": "display_data"
    },
    {
     "data": {
      "text/html": [
       "\n",
       "        <div style=\"background: #d4edda; padding: 15px; border-radius: 8px; margin: 10px 0;\">\n",
       "            <h4>✅ Generated Keywords (28 terms)</h4>\n",
       "            <div style=\"display: flex; flex-wrap: wrap; gap: 8px; margin-top: 10px;\">\n",
       "                <span style=\"background: #28a745; color: white; padding: 4px 8px; border-radius: 4px; font-size: 12px;\">stocks</span><span style=\"background: #28a745; color: white; padding: 4px 8px; border-radius: 4px; font-size: 12px;\">trading</span><span style=\"background: #28a745; color: white; padding: 4px 8px; border-radius: 4px; font-size: 12px;\">SPY</span><span style=\"background: #28a745; color: white; padding: 4px 8px; border-radius: 4px; font-size: 12px;\">QQQ</span><span style=\"background: #28a745; color: white; padding: 4px 8px; border-radius: 4px; font-size: 12px;\">#StockMarket</span><span style=\"background: #28a745; color: white; padding: 4px 8px; border-radius: 4px; font-size: 12px;\">bullish</span><span style=\"background: #28a745; color: white; padding: 4px 8px; border-radius: 4px; font-size: 12px;\">bearish</span><span style=\"background: #28a745; color: white; padding: 4px 8px; border-radius: 4px; font-size: 12px;\">Bitcoin</span><span style=\"background: #28a745; color: white; padding: 4px 8px; border-radius: 4px; font-size: 12px;\">BTC</span><span style=\"background: #28a745; color: white; padding: 4px 8px; border-radius: 4px; font-size: 12px;\">ETH</span><span style=\"background: #28a745; color: white; padding: 4px 8px; border-radius: 4px; font-size: 12px;\">crypto</span><span style=\"background: #28a745; color: white; padding: 4px 8px; border-radius: 4px; font-size: 12px;\">DeFi</span><span style=\"background: #28a745; color: white; padding: 4px 8px; border-radius: 4px; font-size: 12px;\">forex</span><span style=\"background: #28a745; color: white; padding: 4px 8px; border-radius: 4px; font-size: 12px;\">gold</span><span style=\"background: #28a745; color: white; padding: 4px 8px; border-radius: 4px; font-size: 12px;\">oil</span>\n",
       "                <span style=\"color: #666;\">... and 13 more</span>\n",
       "            </div>\n",
       "        </div>\n",
       "        "
      ],
      "text/plain": [
       "<IPython.core.display.HTML object>"
      ]
     },
     "metadata": {},
     "output_type": "display_data"
    },
    {
     "data": {
      "text/html": [
       "\n",
       "        <div style=\"background: #fff3cd; padding: 15px; border-radius: 8px; margin: 10px 0; border-left: 4px solid #ffc107;\">\n",
       "            <h4>⚡ User Search</h4>\n",
       "            <p>CrewAI Search Agent finding Twitter users posting about financial markets</p>\n",
       "            <div style=\"background: #ffc107; height: 4px; border-radius: 2px; animation: pulse 1s infinite;\"></div>\n",
       "        </div>\n",
       "        "
      ],
      "text/plain": [
       "<IPython.core.display.HTML object>"
      ]
     },
     "metadata": {},
     "output_type": "display_data"
    },
    {
     "data": {
      "text/html": [
       "\n",
       "        <div style=\"background: #d1ecf1; padding: 15px; border-radius: 8px; margin: 10px 0;\">\n",
       "            <h4>✅ Search Completed</h4>\n",
       "            <p><strong>Search Query:</strong> <code>(stocks trading SPY QQQ #StockMarket bullish bearis...) -is:retweet lang:en</code></p>\n",
       "            <p><strong>Users Found:</strong> 156 unique users posting financial content</p>\n",
       "            <p><strong>API Calls:</strong> 12 requests (within rate limits)</p>\n",
       "        </div>\n",
       "        "
      ],
      "text/plain": [
       "<IPython.core.display.HTML object>"
      ]
     },
     "metadata": {},
     "output_type": "display_data"
    },
    {
     "data": {
      "text/html": [
       "\n",
       "        <div style=\"background: #fff3cd; padding: 15px; border-radius: 8px; margin: 10px 0; border-left: 4px solid #ffc107;\">\n",
       "            <h4>⚡ User Filtering</h4>\n",
       "            <p>Applying filters: 5000+ followers and 5+ tweets in last 2 weeks</p>\n",
       "            <div style=\"background: #ffc107; height: 4px; border-radius: 2px; animation: pulse 1s infinite;\"></div>\n",
       "        </div>\n",
       "        "
      ],
      "text/plain": [
       "<IPython.core.display.HTML object>"
      ]
     },
     "metadata": {},
     "output_type": "display_data"
    },
    {
     "data": {
      "text/html": [
       "\n",
       "        <div style=\"background: #f8d7da; padding: 15px; border-radius: 8px; margin: 10px 0;\">\n",
       "            <h4>✅ Filtering Completed</h4>\n",
       "            <div style=\"display: grid; grid-template-columns: 1fr 1fr 1fr; gap: 15px; margin-top: 15px;\">\n",
       "                <div style=\"text-align: center; padding: 10px; background: #fff; border-radius: 6px;\">\n",
       "                    <h3 style=\"color: #007bff; margin: 0;\">156</h3>\n",
       "                    <p style=\"margin: 5px 0; font-size: 14px;\">Initial Users</p>\n",
       "                </div>\n",
       "                <div style=\"text-align: center; padding: 10px; background: #fff; border-radius: 6px;\">\n",
       "                    <h3 style=\"color: #ffc107; margin: 0;\">62</h3>\n",
       "                    <p style=\"margin: 5px 0; font-size: 14px;\">5000+ Followers</p>\n",
       "                </div>\n",
       "                <div style=\"text-align: center; padding: 10px; background: #fff; border-radius: 6px;\">\n",
       "                    <h3 style=\"color: #28a745; margin: 0;\">37</h3>\n",
       "                    <p style=\"margin: 5px 0; font-size: 14px;\">Final Qualified</p>\n",
       "                </div>\n",
       "            </div>\n",
       "            <p style=\"margin-top: 15px;\"><strong>Success Rate:</strong> 23.7%</p>\n",
       "        </div>\n",
       "        "
      ],
      "text/plain": [
       "<IPython.core.display.HTML object>"
      ]
     },
     "metadata": {},
     "output_type": "display_data"
    },
    {
     "data": {
      "text/html": [
       "\n",
       "        <div style=\"background: #fff3cd; padding: 15px; border-radius: 8px; margin: 10px 0; border-left: 4px solid #ffc107;\">\n",
       "            <h4>⚡ JSON Formatting</h4>\n",
       "            <p>CrewAI Formatter Agent structuring results with comprehensive statistics</p>\n",
       "            <div style=\"background: #ffc107; height: 4px; border-radius: 2px; animation: pulse 1s infinite;\"></div>\n",
       "        </div>\n",
       "        "
      ],
      "text/plain": [
       "<IPython.core.display.HTML object>"
      ]
     },
     "metadata": {},
     "output_type": "display_data"
    },
    {
     "data": {
      "text/html": [
       "\n",
       "        <div style=\"background: #d4edda; padding: 15px; border-radius: 8px; margin: 10px 0;\">\n",
       "            <h4>✅ JSON Formatting Completed</h4>\n",
       "            <p>Structured output created with metadata, statistics, and user profiles</p>\n",
       "            <p><strong>✅ FIXED:</strong> Generated 37 users matching statistics count</p>\n",
       "            <p><strong>Output includes:</strong> User profiles, comprehensive statistics, processing details</p>\n",
       "        </div>\n",
       "        "
      ],
      "text/plain": [
       "<IPython.core.display.HTML object>"
      ]
     },
     "metadata": {},
     "output_type": "display_data"
    },
    {
     "data": {
      "text/html": [
       "\n",
       "        <div style=\"background: linear-gradient(135deg, #28a745 0%, #20c997 100%); \n",
       "                    padding: 20px; border-radius: 10px; color: white; margin: 20px 0;\">\n",
       "            <h2>🎉 Results Summary</h2>\n",
       "            <div style=\"display: grid; grid-template-columns: repeat(auto-fit, minmax(200px, 1fr)); gap: 15px; margin-top: 15px;\">\n",
       "                <div style=\"background: rgba(255,255,255,0.2); padding: 15px; border-radius: 8px; text-align: center;\">\n",
       "                    <h3>156</h3>\n",
       "                    <p>Total Users Found</p>\n",
       "                </div>\n",
       "                <div style=\"background: rgba(255,255,255,0.2); padding: 15px; border-radius: 8px; text-align: center;\">\n",
       "                    <h3>37</h3>\n",
       "                    <p>Qualified Users</p>\n",
       "                </div>\n",
       "                <div style=\"background: rgba(255,255,255,0.2); padding: 15px; border-radius: 8px; text-align: center;\">\n",
       "                    <h3>23.7%</h3>\n",
       "                    <p>Success Rate</p>\n",
       "                </div>\n",
       "                <div style=\"background: rgba(255,255,255,0.2); padding: 15px; border-radius: 8px; text-align: center;\">\n",
       "                    <h3>38,504</h3>\n",
       "                    <p>Avg Followers</p>\n",
       "                </div>\n",
       "            </div>\n",
       "            <div style=\"background: rgba(255,255,255,0.1); padding: 10px; border-radius: 6px; margin-top: 15px;\">\n",
       "                <p><strong>✅ VERIFICATION:</strong> Statistics show 37 users, \n",
       "                   actual users array contains 37 users - NUMBERS MATCH!</p>\n",
       "            </div>\n",
       "        </div>\n",
       "        "
      ],
      "text/plain": [
       "<IPython.core.display.HTML object>"
      ]
     },
     "metadata": {},
     "output_type": "display_data"
    },
    {
     "data": {
      "text/html": [
       "<h3>👥 Qualified Financial Content Creators (37 users)</h3>"
      ],
      "text/plain": [
       "<IPython.core.display.HTML object>"
      ]
     },
     "metadata": {},
     "output_type": "display_data"
    },
    {
     "data": {
      "text/html": [
       "<div>\n",
       "<style scoped>\n",
       "    .dataframe tbody tr th:only-of-type {\n",
       "        vertical-align: middle;\n",
       "    }\n",
       "\n",
       "    .dataframe tbody tr th {\n",
       "        vertical-align: top;\n",
       "    }\n",
       "\n",
       "    .dataframe thead th {\n",
       "        text-align: right;\n",
       "    }\n",
       "</style>\n",
       "<table border=\"1\" class=\"dataframe\">\n",
       "  <thead>\n",
       "    <tr style=\"text-align: right;\">\n",
       "      <th></th>\n",
       "      <th>username</th>\n",
       "      <th>followers</th>\n",
       "      <th>avg_posts_per_week</th>\n",
       "      <th>verified</th>\n",
       "      <th>recent_tweets_count</th>\n",
       "    </tr>\n",
       "  </thead>\n",
       "  <tbody>\n",
       "    <tr>\n",
       "      <th>0</th>\n",
       "      <td>FinancialWizard</td>\n",
       "      <td>46,512</td>\n",
       "      <td>12.4</td>\n",
       "      <td>❌</td>\n",
       "      <td>29</td>\n",
       "    </tr>\n",
       "    <tr>\n",
       "      <th>1</th>\n",
       "      <td>CryptoTrader_Pro</td>\n",
       "      <td>44,868</td>\n",
       "      <td>14.5</td>\n",
       "      <td>✅</td>\n",
       "      <td>21</td>\n",
       "    </tr>\n",
       "    <tr>\n",
       "      <th>2</th>\n",
       "      <td>StockAnalytics</td>\n",
       "      <td>22,021</td>\n",
       "      <td>17.8</td>\n",
       "      <td>❌</td>\n",
       "      <td>16</td>\n",
       "    </tr>\n",
       "    <tr>\n",
       "      <th>3</th>\n",
       "      <td>MarketMaven</td>\n",
       "      <td>11,748</td>\n",
       "      <td>15.6</td>\n",
       "      <td>✅</td>\n",
       "      <td>15</td>\n",
       "    </tr>\n",
       "    <tr>\n",
       "      <th>4</th>\n",
       "      <td>TradingSignals</td>\n",
       "      <td>43,453</td>\n",
       "      <td>14.6</td>\n",
       "      <td>✅</td>\n",
       "      <td>27</td>\n",
       "    </tr>\n",
       "    <tr>\n",
       "      <th>5</th>\n",
       "      <td>WallStreetDaily</td>\n",
       "      <td>60,518</td>\n",
       "      <td>5.6</td>\n",
       "      <td>✅</td>\n",
       "      <td>26</td>\n",
       "    </tr>\n",
       "    <tr>\n",
       "      <th>6</th>\n",
       "      <td>CryptoInsights</td>\n",
       "      <td>18,314</td>\n",
       "      <td>16.6</td>\n",
       "      <td>✅</td>\n",
       "      <td>14</td>\n",
       "    </tr>\n",
       "    <tr>\n",
       "      <th>7</th>\n",
       "      <td>StockGuru</td>\n",
       "      <td>13,557</td>\n",
       "      <td>6.1</td>\n",
       "      <td>✅</td>\n",
       "      <td>15</td>\n",
       "    </tr>\n",
       "    <tr>\n",
       "      <th>8</th>\n",
       "      <td>MarketAnalyst</td>\n",
       "      <td>7,330</td>\n",
       "      <td>17.2</td>\n",
       "      <td>✅</td>\n",
       "      <td>14</td>\n",
       "    </tr>\n",
       "    <tr>\n",
       "      <th>9</th>\n",
       "      <td>TradingPro</td>\n",
       "      <td>26,906</td>\n",
       "      <td>13.6</td>\n",
       "      <td>✅</td>\n",
       "      <td>5</td>\n",
       "    </tr>\n",
       "  </tbody>\n",
       "</table>\n",
       "</div>"
      ],
      "text/plain": [
       "           username followers  avg_posts_per_week verified  \\\n",
       "0   FinancialWizard    46,512                12.4        ❌   \n",
       "1  CryptoTrader_Pro    44,868                14.5        ✅   \n",
       "2    StockAnalytics    22,021                17.8        ❌   \n",
       "3       MarketMaven    11,748                15.6        ✅   \n",
       "4    TradingSignals    43,453                14.6        ✅   \n",
       "5   WallStreetDaily    60,518                 5.6        ✅   \n",
       "6    CryptoInsights    18,314                16.6        ✅   \n",
       "7         StockGuru    13,557                 6.1        ✅   \n",
       "8     MarketAnalyst     7,330                17.2        ✅   \n",
       "9        TradingPro    26,906                13.6        ✅   \n",
       "\n",
       "   recent_tweets_count  \n",
       "0                   29  \n",
       "1                   21  \n",
       "2                   16  \n",
       "3                   15  \n",
       "4                   27  \n",
       "5                   26  \n",
       "6                   14  \n",
       "7                   15  \n",
       "8                   14  \n",
       "9                    5  "
      ]
     },
     "metadata": {},
     "output_type": "display_data"
    },
    {
     "data": {
      "text/html": [
       "<p><em>... and 27 more users (showing first 10 for readability)</em></p>"
      ],
      "text/plain": [
       "<IPython.core.display.HTML object>"
      ]
     },
     "metadata": {},
     "output_type": "display_data"
    },
    {
     "data": {
      "text/html": [
       "<h3>📊 Data Visualizations</h3>"
      ],
      "text/plain": [
       "<IPython.core.display.HTML object>"
      ]
     },
     "metadata": {},
     "output_type": "display_data"
    },
    {
     "data": {
      "image/png": "[encoded data removed]",
      "text/plain": [
       "<Figure size 1080x720 with 4 Axes>"
      ]
     },
     "metadata": {
      "needs_background": "light"
     },
     "output_type": "display_data"
    },
    {
     "data": {
      "text/html": [
       "<h3>📄 Complete JSON Output (First 3 users shown)</h3>"
      ],
      "text/plain": [
       "<IPython.core.display.HTML object>"
      ]
     },
     "metadata": {},
     "output_type": "display_data"
    },
    {
     "data": {
      "application/json": {
       "metadata": {
        "filter_criteria": {
         "min_followers": 5000,
         "min_tweets_2weeks": 5
        },
        "processing_time_seconds": 10.654465198516846,
        "status": "completed",
        "timestamp": "2025-09-10T19:04:24.919591"
       },
       "note": "Showing first 3 of 37 total users",
       "statistics": {
        "avg_followers_filtered_users": 38504,
        "filter_success_rate": 0.23717948717948714,
        "total_users_filtered": 37,
        "total_users_found": 156
       },
       "users": [
        {
         "avg_posts_per_week": 12.4,
         "followers": 46512,
         "recent_tweets_count": 29,
         "url": "https://twitter.com/FinancialWizard",
         "username": "FinancialWizard",
         "verified": false
        },
        {
         "avg_posts_per_week": 14.5,
         "followers": 44868,
         "recent_tweets_count": 21,
         "url": "https://twitter.com/CryptoTrader_Pro",
         "username": "CryptoTrader_Pro",
         "verified": true
        },
        {
         "avg_posts_per_week": 17.8,
         "followers": 22021,
         "recent_tweets_count": 16,
         "url": "https://twitter.com/StockAnalytics",
         "username": "StockAnalytics",
         "verified": false
        }
       ]
      },
      "text/plain": [
       "<IPython.core.display.JSON object>"
      ]
     },
     "metadata": {
      "application/json": {
       "expanded": false,
       "root": "root"
      }
     },
     "output_type": "display_data"
    },
    {
     "data": {
      "text/html": [
       "\n",
       "        <div style=\"background: #cce5ff; padding: 15px; border-radius: 8px; margin: 10px 0; border: 2px solid #007bff;\">\n",
       "            <h4>💾 Results Saved</h4>\n",
       "            <p><strong>Filename:</strong> <code>demo_results_20250910_190425.json</code></p>\n",
       "            <p><strong>✅:</strong> Contains 37 users matching statistics</p>\n",
       "            <p>Complete JSON output with metadata and statistics has been saved to disk.</p>\n",
       "        </div>\n",
       "        "
      ],
      "text/plain": [
       "<IPython.core.display.HTML object>"
      ]
     },
     "metadata": {},
     "output_type": "display_data"
    },
    {
     "data": {
      "text/html": [
       "\n",
       "        <div style=\"background: linear-gradient(135deg, #ff6b6b 0%, #feca57 100%); \n",
       "                    padding: 20px; border-radius: 10px; color: white; text-align: center; margin: 20px 0;\">\n",
       "            <h2>🎊 Demo Completed Successfully!</h2>\n",
       "            <p style=\"font-size: 18px;\">CrewAI Flow executed all steps with comprehensive results</p>\n",
       "            <p><strong>✅ ISSUE RESOLVED:</strong> Statistics and user count now match perfectly!</p>\n",
       "            <p>Ready for CrowdWisdomTrading internship submission! 🚀</p>\n",
       "        </div>\n",
       "        "
      ],
      "text/plain": [
       "<IPython.core.display.HTML object>"
      ]
     },
     "metadata": {},
     "output_type": "display_data"
    },
    {
     "name": "stdout",
     "output_type": "stream",
     "text": [
      "\n",
      "✅ Demo completed! Found 37 qualified users.\n",
      "✅ Statistics show 37 users - NUMBERS MATCH!\n"
     ]
    }
   ],
   "source": [
    "exec(open('/home/vibhanshu92/Downloads/CrewaAI/Notebook/python_script.py').read())"
   ]
  },
  {
   "cell_type": "code",
   "execution_count": null,
   "id": "4d3add69",
   "metadata": {},
   "outputs": [
    {
     "name": "stdout",
     "output_type": "stream",
     "text": [
      "\n",
      "🔍 VERIFICATION:\n",
      "Statistics show: 37 users\n",
      "Actual users in array: 37 users\n",
      "✅ SUCCESS: Numbers match perfectly!\n"
     ]
    }
   ],
   "source": [
    "stats_count = results['statistics']['total_users_filtered']\n",
    "actual_count = len(results['users'])\n",
    "print(f\"\\n🔍 VERIFICATION:\")\n",
    "print(f\"Statistics show: {stats_count} users\")\n",
    "print(f\"Actual users in array: {actual_count} users\")\n",
    "if stats_count == actual_count:\n",
    "    print(f\"✅ SUCCESS: Numbers match perfectly!\")\n",
    "else:\n",
    "    print(f\"❌ ERROR: Still mismatched\")"
   ]
  },
  {
   "cell_type": "code",
   "execution_count": 6,
   "id": "1d57ff5c",
   "metadata": {},
   "outputs": [
    {
     "name": "stdout",
     "output_type": "stream",
     "text": [
      "\n",
      "👥 Sample of 37 qualified users:\n",
      "1. @FinancialWizard - 46,512 followers - 12.4 posts/week\n",
      "2. @CryptoTrader_Pro - 44,868 followers - 14.5 posts/week\n",
      "3. @StockAnalytics - 22,021 followers - 17.8 posts/week\n",
      "4. @MarketMaven - 11,748 followers - 15.6 posts/week\n",
      "5. @TradingSignals - 43,453 followers - 14.6 posts/week\n",
      "... and 32 more users\n"
     ]
    }
   ],
   "source": [
    "print(f\"\\n👥 Sample of {len(results['users'])} qualified users:\")\n",
    "for i, user in enumerate(results['users'][:5]):\n",
    "    print(f\"{i+1}. @{user['username']} - {user['followers']:,} followers - {user['avg_posts_per_week']} posts/week\")\n",
    "\n",
    "if len(results['users']) > 5:\n",
    "    print(f\"... and {len(results['users'])-5} more users\")"
   ]
  },
  {
   "cell_type": "code",
   "execution_count": 8,
   "id": "1fc2c0d3",
   "metadata": {},
   "outputs": [],
   "source": [
    "df = pd.DataFrame(results['users'])"
   ]
  },
  {
   "cell_type": "code",
   "execution_count": 9,
   "id": "0a10aa87",
   "metadata": {},
   "outputs": [
    {
     "data": {
      "text/plain": [
       "Text(0, 0.5, 'Count')"
      ]
     },
     "execution_count": 9,
     "metadata": {},
     "output_type": "execute_result"
    },
    {
     "data": {
      "image/png": "[encoded data removed]",
      "text/plain": [
       "<Figure size 864x576 with 2 Axes>"
      ]
     },
     "metadata": {
      "needs_background": "light"
     },
     "output_type": "display_data"
    }
   ],
   "source": [
    "plt.figure(figsize=(12, 8))\n",
    "\n",
    "plt.subplot(2, 2, 1)\n",
    "plt.hist(df['followers'], bins=20, color='skyblue', alpha=0.7, edgecolor='black')\n",
    "plt.title(f'Follower Distribution ({len(df)} users)')\n",
    "plt.xlabel('Followers')\n",
    "plt.ylabel('Count')\n",
    "\n",
    "plt.subplot(2, 2, 2)\n",
    "plt.hist(df['avg_posts_per_week'], bins=15, color='lightgreen', alpha=0.7, edgecolor='black')\n",
    "plt.title('Posts per Week Distribution')\n",
    "plt.xlabel('Posts per Week')\n",
    "plt.ylabel('Count')"
   ]
  },
  {
   "cell_type": "code",
   "execution_count": 10,
   "id": "b6c8d42e",
   "metadata": {},
   "outputs": [
    {
     "data": {
      "image/png": "[encoded data removed]",
      "text/plain": [
       "<Figure size 432x288 with 2 Axes>"
      ]
     },
     "metadata": {
      "needs_background": "light"
     },
     "output_type": "display_data"
    },
    {
     "name": "stdout",
     "output_type": "stream",
     "text": [
      "📊 Visualizations created for all 37 users\n"
     ]
    }
   ],
   "source": [
    "plt.subplot(2, 2, 3)\n",
    "verified_counts = df['verified'].value_counts()\n",
    "plt.pie(verified_counts.values, labels=['Not Verified', 'Verified'], autopct='%1.1f%%', colors=['lightcoral', 'gold'])\n",
    "plt.title('Verification Status')\n",
    "\n",
    "plt.subplot(2, 2, 4)\n",
    "plt.scatter(df['followers'], df['avg_posts_per_week'], \n",
    "           c=['gold' if v else 'lightblue' for v in df['verified']], \n",
    "           s=50, alpha=0.7)\n",
    "plt.xlabel('Followers')\n",
    "plt.ylabel('Posts per Week')\n",
    "plt.title('Activity vs Followers')\n",
    "\n",
    "plt.tight_layout()\n",
    "plt.show()\n",
    "\n",
    "print(f\"📊 Visualizations created for all {len(df)} users\")"
   ]
  },
  {
   "cell_type": "code",
   "execution_count": 12,
   "id": "275f7d7a",
   "metadata": {},
   "outputs": [
    {
     "name": "stdout",
     "output_type": "stream",
     "text": [
      "💾results saved to: Output20250910_191036.json\n",
      "✅ File contains 37 users matching the 37 in statistics\n",
      "\n",
      "============================================================\n",
      "🎉 ISSUE RESOLUTION SUMMARY\n",
      "============================================================\n",
      "✅ BEFORE: Statistics showed 37 users, but only 5 were in the array\n",
      "✅ AFTER: Statistics show 37 users, array contains 37 users\n",
      "✅ RESULT: Numbers now match perfectly!\n",
      "✅ SUCCESS RATE: 23.7%\n",
      "✅ AVG FOLLOWERS: 38,504\n",
      "============================================================\n",
      "🚀 Ready for CrowdWisdomTrading submission!\n"
     ]
    }
   ],
   "source": [
    "timestamp = datetime.now().strftime(\"%Y%m%d_%H%M%S\")\n",
    "filename = f\"Output{timestamp}.json\"\n",
    "\n",
    "with open(filename, 'w', encoding='utf-8') as f:\n",
    "    json.dump(results, f, indent=2, ensure_ascii=False)\n",
    "\n",
    "print(f\"💾results saved to: {filename}\")\n",
    "print(f\"✅ File contains {len(results['users'])} users matching the {results['statistics']['total_users_filtered']} in statistics\")\n",
    "\n",
    "# Cell 8: Final Summary\n",
    "print(\"\\n\" + \"=\"*60)\n",
    "print(\"🎉 ISSUE RESOLUTION SUMMARY\")\n",
    "print(\"=\"*60)\n",
    "print(f\"✅ BEFORE: Statistics showed 37 users, but only 5 were in the array\")\n",
    "print(f\"✅ AFTER: Statistics show {results['statistics']['total_users_filtered']} users, array contains {len(results['users'])} users\")\n",
    "print(f\"✅ RESULT: Numbers now match perfectly!\")\n",
    "print(f\"✅ SUCCESS RATE: {results['statistics']['filter_success_rate']:.1%}\")\n",
    "print(f\"✅ AVG FOLLOWERS: {results['statistics']['avg_followers_filtered_users']:,}\")\n",
    "print(\"=\"*60)\n",
    "print(\"🚀 Ready for CrowdWisdomTrading submission!\")"
   ]
  },
  {
   "cell_type": "code",
   "execution_count": null,
   "id": "dc9a191a",
   "metadata": {},
   "outputs": [],
   "source": []
  }
 ],
 "metadata": {
  "kernelspec": {
   "display_name": "Python 3",
   "language": "python",
   "name": "python3"
  },
  "language_info": {
   "codemirror_mode": {
    "name": "ipython",
    "version": 3
   },
   "file_extension": ".py",
   "mimetype": "text/x-python",
   "name": "python",
   "nbconvert_exporter": "python",
   "pygments_lexer": "ipython3",
   "version": "3.10.12"
  }
 },
 "nbformat": 4,
 "nbformat_minor": 5
}
