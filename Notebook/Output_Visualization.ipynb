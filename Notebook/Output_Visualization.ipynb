{
 "cells": [
  {
   "cell_type": "code",
   "execution_count": 1,
   "id": "2ae55319",
   "metadata": {},
   "outputs": [
    {
     "name": "stderr",
     "output_type": "stream",
     "text": [
      "/home/vibhanshu92/.local/lib/python3.10/site-packages/matplotlib/projections/__init__.py:63: UserWarning: Unable to import Axes3D. This may be due to multiple versions of Matplotlib being installed (e.g. as a system package and as a pip package). As a result, the 3D projection is not available.\n",
      "  warnings.warn(\"Unable to import Axes3D. This may be due to multiple versions of \"\n"
     ]
    }
   ],
   "source": [
    "import json\n",
    "import time\n",
    "import os\n",
    "import sys\n",
    "from datetime import datetime\n",
    "from typing import Dict, Any, List\n",
    "import pandas as pd\n",
    "from IPython.display import display, HTML, JSON, Markdown\n",
    "import matplotlib.pyplot as plt\n",
    "import seaborn as sns\n",
    "from loguru import logger"
   ]
  },
  {
   "cell_type": "code",
   "execution_count": 2,
   "id": "8aebd23f",
   "metadata": {},
   "outputs": [],
   "source": [
    "# Configure matplotlib for better plots\n",
    "plt.style.use('seaborn-v0_8')\n",
    "sns.set_palette(\"husl\")"
   ]
  },
  {
   "cell_type": "code",
   "execution_count": 3,
   "id": "5b2bd081",
   "metadata": {},
   "outputs": [],
   "source": [
    "class TwitterFinancialDemo:\n",
    "    \"\"\"Interactive demo class for Jupyter notebook presentation\"\"\"\n",
    "    \n",
    "    def __init__(self):\n",
    "        self.setup_logging()\n",
    "        self.demo_data = None\n",
    "        self.processing_steps = []\n",
    "        \n",
    "    def setup_logging(self):\n",
    "        \"\"\"Configure logging for notebook display\"\"\"\n",
    "        logger.remove()\n",
    "        logger.add(\n",
    "            sys.stdout,\n",
    "            format=\"<green>{time:HH:mm:ss}</green> | <level>{level: <8}</level> | {message}\",\n",
    "            level=\"INFO\"\n",
    "        )\n",
    "    \n",
    "    def display_header(self):\n",
    "        \"\"\"Display project header with styling\"\"\"\n",
    "        header_html = \"\"\"\n",
    "        <div style=\"background: linear-gradient(135deg, #667eea 0%, #764ba2 100%); \n",
    "                    padding: 20px; border-radius: 10px; color: white; text-align: center;\">\n",
    "            <h1>🚀 CrowdWisdomTrading AI Agent</h1>\n",
    "            <h2>Twitter Financial Markets User Finder</h2>\n",
    "            <p style=\"font-size: 16px; margin-top: 15px;\">\n",
    "                CrewAI-powered multi-agent system for discovering financial content creators\n",
    "            </p>\n",
    "        </div>\n",
    "        \"\"\"\n",
    "        display(HTML(header_html))\n",
    "    \n",
    "    def display_architecture(self):\n",
    "        \"\"\"Display system architecture\"\"\"\n",
    "        arch_html = \"\"\"\n",
    "        <div style=\"background: #f8f9fa; padding: 20px; border-radius: 8px; margin: 20px 0;\">\n",
    "            <h3>🏗️ System Architecture</h3>\n",
    "            <div style=\"display: flex; justify-content: space-around; margin: 20px 0;\">\n",
    "                <div style=\"text-align: center; padding: 15px; background: #e3f2fd; border-radius: 8px;\">\n",
    "                    <h4>📝 Keyword Agent</h4>\n",
    "                    <p>Generates financial market search terms</p>\n",
    "                </div>\n",
    "                <div style=\"text-align: center; padding: 15px; background: #f3e5f5; border-radius: 8px;\">\n",
    "                    <h4>🔍 Search Agent</h4>\n",
    "                    <p>Finds Twitter users posting financial content</p>\n",
    "                </div>\n",
    "                <div style=\"text-align: center; padding: 15px; background: #e8f5e8; border-radius: 8px;\">\n",
    "                    <h4>📊 Formatter Agent</h4>\n",
    "                    <p>Structures results into JSON format</p>\n",
    "                </div>\n",
    "            </div>\n",
    "        </div>\n",
    "        \"\"\"\n",
    "        display(HTML(arch_html))\n",
    "    \n",
    "    def simulate_step(self, step_name: str, description: str, duration: float = 2.0) -> Dict[str, Any]:\n",
    "        \"\"\"Simulate a processing step with visual feedback\"\"\"\n",
    "        step_data = {\n",
    "            'name': step_name,\n",
    "            'description': description,\n",
    "            'start_time': time.time(),\n",
    "            'duration': duration\n",
    "        }\n",
    "        \n",
    "        # Display step header\n",
    "        step_html = f\"\"\"\n",
    "        <div style=\"background: #fff3cd; padding: 15px; border-radius: 8px; margin: 10px 0; border-left: 4px solid #ffc107;\">\n",
    "            <h4>⚡ {step_name}</h4>\n",
    "            <p>{description}</p>\n",
    "            <div style=\"background: #ffc107; height: 4px; border-radius: 2px; animation: pulse 1s infinite;\"></div>\n",
    "        </div>\n",
    "        \"\"\"\n",
    "        display(HTML(step_html))\n",
    "        \n",
    "        # Simulate processing time\n",
    "        time.sleep(duration)\n",
    "        \n",
    "        step_data['end_time'] = time.time()\n",
    "        step_data['actual_duration'] = step_data['end_time'] - step_data['start_time']\n",
    "        self.processing_steps.append(step_data)\n",
    "        \n",
    "        return step_data\n",
    "    \n",
    "    def step1_generate_keywords(self):\n",
    "        \"\"\"Step 1: Generate financial market keywords\"\"\"\n",
    "        step = self.simulate_step(\n",
    "            \"Keyword Generation\", \n",
    "            \"CrewAI Keyword Agent generating optimized search terms for US financial markets\",\n",
    "            2.5\n",
    "        )\n",
    "        \n",
    "        keywords = [\n",
    "            \"stocks\", \"trading\", \"SPY\", \"QQQ\", \"#StockMarket\", \"bullish\", \"bearish\",\n",
    "            \"Bitcoin\", \"BTC\", \"ETH\", \"crypto\", \"DeFi\", \"forex\", \"gold\", \"oil\",\n",
    "            \"USD\", \"EUR\", \"Fed\", \"interest rates\", \"earnings\", \"technical analysis\",\n",
    "            \"fundamentals\", \"chart\", \"NYSE\", \"NASDAQ\", \"options\", \"calls\", \"puts\"\n",
    "        ]\n",
    "        \n",
    "        # Display generated keywords\n",
    "        keywords_html = f\"\"\"\n",
    "        <div style=\"background: #d4edda; padding: 15px; border-radius: 8px; margin: 10px 0;\">\n",
    "            <h4>✅ Generated Keywords ({len(keywords)} terms)</h4>\n",
    "            <div style=\"display: flex; flex-wrap: wrap; gap: 8px; margin-top: 10px;\">\n",
    "                {''.join([f'<span style=\"background: #28a745; color: white; padding: 4px 8px; border-radius: 4px; font-size: 12px;\">{kw}</span>' for kw in keywords[:15]])}\n",
    "                <span style=\"color: #666;\">... and {len(keywords)-15} more</span>\n",
    "            </div>\n",
    "        </div>\n",
    "        \"\"\"\n",
    "        display(HTML(keywords_html))\n",
    "        \n",
    "        return {\n",
    "            'keywords': keywords,\n",
    "            'keywords_string': ' '.join(keywords),\n",
    "            'step_info': step\n",
    "        }\n",
    "    \n",
    "    def step2_search_users(self, keywords_data: Dict[str, Any]):\n",
    "        \"\"\"Step 2: Search for Twitter users\"\"\"\n",
    "        step = self.simulate_step(\n",
    "            \"User Search\",\n",
    "            \"CrewAI Search Agent finding Twitter users posting about financial markets\",\n",
    "            3.5\n",
    "        )\n",
    "        \n",
    "        # Simulate search results\n",
    "        total_users_found = 156\n",
    "        search_query = f\"({keywords_data['keywords_string'][:50]}...) -is:retweet lang:en\"\n",
    "        \n",
    "        search_html = f\"\"\"\n",
    "        <div style=\"background: #d1ecf1; padding: 15px; border-radius: 8px; margin: 10px 0;\">\n",
    "            <h4>✅ Search Completed</h4>\n",
    "            <p><strong>Search Query:</strong> <code>{search_query}</code></p>\n",
    "            <p><strong>Users Found:</strong> {total_users_found} unique users posting financial content</p>\n",
    "            <p><strong>API Calls:</strong> 12 requests (within rate limits)</p>\n",
    "        </div>\n",
    "        \"\"\"\n",
    "        display(HTML(search_html))\n",
    "        \n",
    "        return {\n",
    "            'total_users_found': total_users_found,\n",
    "            'search_query': search_query,\n",
    "            'step_info': step\n",
    "        }\n",
    "    \n",
    "    def step3_filter_users(self, search_data: Dict[str, Any]):\n",
    "        \"\"\"Step 3: Filter users by criteria\"\"\"\n",
    "        step = self.simulate_step(\n",
    "            \"User Filtering\",\n",
    "            \"Applying filters: 5000+ followers and 5+ tweets in last 2 weeks\",\n",
    "            2.8\n",
    "        )\n",
    "        \n",
    "        # Simulate filtering results\n",
    "        total_found = search_data['total_users_found']\n",
    "        followers_filtered = int(total_found * 0.4)  # 40% pass follower filter\n",
    "        activity_filtered = int(followers_filtered * 0.6)  # 60% of those pass activity filter\n",
    "        final_count = activity_filtered\n",
    "        \n",
    "        # Create filtering visualization data\n",
    "        filter_data = {\n",
    "            'Initial Users': total_found,\n",
    "            'After Follower Filter (5000+)': followers_filtered,\n",
    "            'Final Users (5+ tweets/2weeks)': final_count\n",
    "        }\n",
    "        \n",
    "        # Display filter results\n",
    "        filter_html = f\"\"\"\n",
    "        <div style=\"background: #f8d7da; padding: 15px; border-radius: 8px; margin: 10px 0;\">\n",
    "            <h4>✅ Filtering Completed</h4>\n",
    "            <div style=\"display: grid; grid-template-columns: 1fr 1fr 1fr; gap: 15px; margin-top: 15px;\">\n",
    "                <div style=\"text-align: center; padding: 10px; background: #fff; border-radius: 6px;\">\n",
    "                    <h3 style=\"color: #007bff; margin: 0;\">{total_found}</h3>\n",
    "                    <p style=\"margin: 5px 0; font-size: 14px;\">Initial Users</p>\n",
    "                </div>\n",
    "                <div style=\"text-align: center; padding: 10px; background: #fff; border-radius: 6px;\">\n",
    "                    <h3 style=\"color: #ffc107; margin: 0;\">{followers_filtered}</h3>\n",
    "                    <p style=\"margin: 5px 0; font-size: 14px;\">5000+ Followers</p>\n",
    "                </div>\n",
    "                <div style=\"text-align: center; padding: 10px; background: #fff; border-radius: 6px;\">\n",
    "                    <h3 style=\"color: #28a745; margin: 0;\">{final_count}</h3>\n",
    "                    <p style=\"margin: 5px 0; font-size: 14px;\">Final Qualified</p>\n",
    "                </div>\n",
    "            </div>\n",
    "            <p style=\"margin-top: 15px;\"><strong>Success Rate:</strong> {(final_count/total_found)*100:.1f}%</p>\n",
    "        </div>\n",
    "        \"\"\"\n",
    "        display(HTML(filter_html))\n",
    "        \n",
    "        return {\n",
    "            'filter_data': filter_data,\n",
    "            'final_count': final_count,\n",
    "            'success_rate': (final_count/total_found)*100,\n",
    "            'step_info': step\n",
    "        }\n",
    "    \n",
    "    def step4_format_results(self, filter_data: Dict[str, Any]):\n",
    "        \"\"\"Step 4: Format results to JSON\"\"\"\n",
    "        step = self.simulate_step(\n",
    "            \"JSON Formatting\",\n",
    "            \"CrewAI Formatter Agent structuring results with comprehensive statistics\",\n",
    "            1.8\n",
    "        )\n",
    "        \n",
    "        # Generate sample user data\n",
    "        sample_users = [\n",
    "            {\n",
    "                \"url\": \"https://twitter.com/FinancialWizard\",\n",
    "                \"username\": \"FinancialWizard\",\n",
    "                \"followers\": 15200,\n",
    "                \"avg_posts_per_week\": 9.0,\n",
    "                \"verified\": True,\n",
    "                \"recent_tweets_count\": 18\n",
    "            },\n",
    "            {\n",
    "                \"url\": \"https://twitter.com/CryptoTrader_Pro\",\n",
    "                \"username\": \"CryptoTrader_Pro\",\n",
    "                \"followers\": 8900,\n",
    "                \"avg_posts_per_week\": 6.5,\n",
    "                \"verified\": False,\n",
    "                \"recent_tweets_count\": 13\n",
    "            },\n",
    "            {\n",
    "                \"url\": \"https://twitter.com/StockAnalytics\",\n",
    "                \"username\": \"StockAnalytics\",\n",
    "                \"followers\": 28500,\n",
    "                \"avg_posts_per_week\": 11.5,\n",
    "                \"verified\": True,\n",
    "                \"recent_tweets_count\": 23\n",
    "            },\n",
    "            {\n",
    "                \"url\": \"https://twitter.com/MarketMaven\",\n",
    "                \"username\": \"MarketMaven\",\n",
    "                \"followers\": 12800,\n",
    "                \"avg_posts_per_week\": 7.5,\n",
    "                \"verified\": False,\n",
    "                \"recent_tweets_count\": 15\n",
    "            },\n",
    "            {\n",
    "                \"url\": \"https://twitter.com/TradingSignals\",\n",
    "                \"username\": \"TradingSignals\",\n",
    "                \"followers\": 19600,\n",
    "                \"avg_posts_per_week\": 8.5,\n",
    "                \"verified\": True,\n",
    "                \"recent_tweets_count\": 17\n",
    "            }\n",
    "        ]\n",
    "        \n",
    "        # Create complete demo data\n",
    "        self.demo_data = {\n",
    "            \"metadata\": {\n",
    "                \"timestamp\": datetime.now().isoformat(),\n",
    "                \"processing_time_seconds\": sum(s['actual_duration'] for s in self.processing_steps),\n",
    "                \"filter_criteria\": {\n",
    "                    \"min_followers\": 5000,\n",
    "                    \"min_tweets_2weeks\": 5\n",
    "                },\n",
    "                \"status\": \"completed\"\n",
    "            },\n",
    "            \"statistics\": {\n",
    "                \"total_users_found\": 156,\n",
    "                \"total_users_filtered\": filter_data['final_count'],\n",
    "                \"filter_success_rate\": filter_data['success_rate'] / 100,\n",
    "                \"avg_followers_filtered_users\": int(sum(u['followers'] for u in sample_users) / len(sample_users))\n",
    "            },\n",
    "            \"users\": sample_users\n",
    "        }\n",
    "        \n",
    "        format_html = \"\"\"\n",
    "        <div style=\"background: #d4edda; padding: 15px; border-radius: 8px; margin: 10px 0;\">\n",
    "            <h4>✅ JSON Formatting Completed</h4>\n",
    "            <p>Structured output created with metadata, statistics, and user profiles</p>\n",
    "            <p><strong>Output includes:</strong> User profiles, comprehensive statistics, processing details</p>\n",
    "        </div>\n",
    "        \"\"\"\n",
    "        display(HTML(format_html))\n",
    "        \n",
    "        return {\n",
    "            'formatted_data': self.demo_data,\n",
    "            'step_info': step\n",
    "        }\n",
    "    \n",
    "    def display_results_summary(self):\n",
    "        \"\"\"Display comprehensive results summary\"\"\"\n",
    "        if not self.demo_data:\n",
    "            return\n",
    "        \n",
    "        # Summary statistics\n",
    "        stats = self.demo_data['statistics']\n",
    "        users = self.demo_data['users']\n",
    "        \n",
    "        summary_html = f\"\"\"\n",
    "        <div style=\"background: linear-gradient(135deg, #28a745 0%, #20c997 100%); \n",
    "                    padding: 20px; border-radius: 10px; color: white; margin: 20px 0;\">\n",
    "            <h2>🎉 Results Summary</h2>\n",
    "            <div style=\"display: grid; grid-template-columns: repeat(auto-fit, minmax(200px, 1fr)); gap: 15px; margin-top: 15px;\">\n",
    "                <div style=\"background: rgba(255,255,255,0.2); padding: 15px; border-radius: 8px; text-align: center;\">\n",
    "                    <h3>{stats['total_users_found']}</h3>\n",
    "                    <p>Total Users Found</p>\n",
    "                </div>\n",
    "                <div style=\"background: rgba(255,255,255,0.2); padding: 15px; border-radius: 8px; text-align: center;\">\n",
    "                    <h3>{stats['total_users_filtered']}</h3>\n",
    "                    <p>Qualified Users</p>\n",
    "                </div>\n",
    "                <div style=\"background: rgba(255,255,255,0.2); padding: 15px; border-radius: 8px; text-align: center;\">\n",
    "                    <h3>{stats['filter_success_rate']:.1%}</h3>\n",
    "                    <p>Success Rate</p>\n",
    "                </div>\n",
    "                <div style=\"background: rgba(255,255,255,0.2); padding: 15px; border-radius: 8px; text-align: center;\">\n",
    "                    <h3>{stats['avg_followers_filtered_users']:,}</h3>\n",
    "                    <p>Avg Followers</p>\n",
    "                </div>\n",
    "            </div>\n",
    "        </div>\n",
    "        \"\"\"\n",
    "        display(HTML(summary_html))\n",
    "    \n",
    "    def display_user_table(self):\n",
    "        \"\"\"Display users in a formatted table\"\"\"\n",
    "        if not self.demo_data:\n",
    "            return\n",
    "        \n",
    "        # Create DataFrame for better display\n",
    "        df = pd.DataFrame(self.demo_data['users'])\n",
    "        df['followers'] = df['followers'].apply(lambda x: f\"{x:,}\")\n",
    "        df['verified'] = df['verified'].apply(lambda x: \"✅\" if x else \"❌\")\n",
    "        \n",
    "        display(HTML(\"<h3>👥 Qualified Financial Content Creators</h3>\"))\n",
    "        display(df[['username', 'followers', 'avg_posts_per_week', 'verified', 'recent_tweets_count']])\n",
    "    \n",
    "    def create_visualizations(self):\n",
    "        \"\"\"Create data visualizations\"\"\"\n",
    "        if not self.demo_data:\n",
    "            return\n",
    "        \n",
    "        users = self.demo_data['users']\n",
    "        df = pd.DataFrame(users)\n",
    "        \n",
    "        # Create subplots\n",
    "        fig, ((ax1, ax2), (ax3, ax4)) = plt.subplots(2, 2, figsize=(15, 10))\n",
    "        fig.suptitle('Twitter Financial Content Creators - Analysis Dashboard', fontsize=16, fontweight='bold')\n",
    "        \n",
    "        # 1. Followers distribution\n",
    "        ax1.bar(df['username'], df['followers'], color='skyblue', alpha=0.7)\n",
    "        ax1.set_title('Follower Count by User')\n",
    "        ax1.set_ylabel('Followers')\n",
    "        ax1.tick_params(axis='x', rotation=45)\n",
    "        \n",
    "        # 2. Posts per week\n",
    "        ax2.bar(df['username'], df['avg_posts_per_week'], color='lightgreen', alpha=0.7)\n",
    "        ax2.set_title('Average Posts per Week')\n",
    "        ax2.set_ylabel('Posts/Week')\n",
    "        ax2.tick_params(axis='x', rotation=45)\n",
    "        \n",
    "        # 3. Verification status pie chart\n",
    "        verified_counts = df['verified'].value_counts()\n",
    "        ax3.pie(verified_counts.values, labels=['Verified' if x else 'Not Verified' for x in verified_counts.index], \n",
    "                autopct='%1.1f%%', colors=['gold', 'lightcoral'])\n",
    "        ax3.set_title('Verification Status')\n",
    "        \n",
    "        # 4. Recent activity\n",
    "        ax4.scatter(df['followers'], df['avg_posts_per_week'], \n",
    "                   c=['gold' if v else 'lightblue' for v in df['verified']], \n",
    "                   s=100, alpha=0.7)\n",
    "        ax4.set_xlabel('Followers')\n",
    "        ax4.set_ylabel('Posts per Week')\n",
    "        ax4.set_title('Activity vs Followers (Gold = Verified)')\n",
    "        \n",
    "        plt.tight_layout()\n",
    "        plt.show()\n",
    "    \n",
    "    def display_json_output(self):\n",
    "        \"\"\"Display formatted JSON output\"\"\"\n",
    "        if not self.demo_data:\n",
    "            return\n",
    "        \n",
    "        display(HTML(\"<h3>📄 Complete JSON Output</h3>\"))\n",
    "        display(JSON(self.demo_data))\n",
    "    \n",
    "    def save_results(self):\n",
    "        \"\"\"Save results to file\"\"\"\n",
    "        if not self.demo_data:\n",
    "            return\n",
    "        \n",
    "        timestamp = datetime.now().strftime(\"%Y%m%d_%H%M%S\")\n",
    "        filename = f\"jupyter_demo_results_{timestamp}.json\"\n",
    "        \n",
    "        with open(filename, 'w', encoding='utf-8') as f:\n",
    "            json.dump(self.demo_data, f, indent=2, ensure_ascii=False)\n",
    "        \n",
    "        save_html = f\"\"\"\n",
    "        <div style=\"background: #cce5ff; padding: 15px; border-radius: 8px; margin: 10px 0; border: 2px solid #007bff;\">\n",
    "            <h4>💾 Results Saved</h4>\n",
    "            <p><strong>Filename:</strong> <code>{filename}</code></p>\n",
    "            <p>Complete JSON output with metadata and statistics has been saved to disk.</p>\n",
    "        </div>\n",
    "        \"\"\"\n",
    "        display(HTML(save_html))\n",
    "        \n",
    "        return filename\n",
    "    \n",
    "    def run_complete_demo(self):\n",
    "        \"\"\"Run the complete demonstration\"\"\"\n",
    "        # Display header and architecture\n",
    "        self.display_header()\n",
    "        self.display_architecture()\n",
    "        \n",
    "        # Execute all steps\n",
    "        logger.info(\"🚀 Starting Twitter Financial Flow Demo...\")\n",
    "        \n",
    "        # Step 1: Generate keywords\n",
    "        keywords_data = self.step1_generate_keywords()\n",
    "        \n",
    "        # Step 2: Search users\n",
    "        search_data = self.step2_search_users(keywords_data)\n",
    "        \n",
    "        # Step 3: Filter users\n",
    "        filter_data = self.step3_filter_users(search_data)\n",
    "        \n",
    "        # Step 4: Format results\n",
    "        format_data = self.step4_format_results(filter_data)\n",
    "        \n",
    "        # Display results\n",
    "        self.display_results_summary()\n",
    "        self.display_user_table()\n",
    "        \n",
    "        # Create visualizations\n",
    "        display(HTML(\"<h3>📊 Data Visualizations</h3>\"))\n",
    "        self.create_visualizations()\n",
    "        \n",
    "        # Display JSON output\n",
    "        self.display_json_output()\n",
    "        \n",
    "        # Save results\n",
    "        filename = self.save_results()\n",
    "        \n",
    "        # Final completion message\n",
    "        completion_html = \"\"\"\n",
    "        <div style=\"background: linear-gradient(135deg, #ff6b6b 0%, #feca57 100%); \n",
    "                    padding: 20px; border-radius: 10px; color: white; text-align: center; margin: 20px 0;\">\n",
    "            <h2>🎊 Demo Completed Successfully!</h2>\n",
    "            <p style=\"font-size: 18px;\">CrewAI Flow executed all steps with comprehensive results</p>\n",
    "            <p>Ready for CrowdWisdomTrading internship submission! 🚀</p>\n",
    "        </div>\n",
    "        \"\"\"\n",
    "        display(HTML(completion_html))\n",
    "        \n",
    "        return self.demo_data\n"
   ]
  },
  {
   "cell_type": "code",
   "execution_count": 4,
   "id": "4d3add69",
   "metadata": {},
   "outputs": [],
   "source": [
    "# Main execution functions\n",
    "def run_interactive_demo():\n",
    "    \"\"\"Run the interactive demo (call this in Jupyter)\"\"\"\n",
    "    demo = TwitterFinancialDemo()\n",
    "    return demo.run_complete_demo()"
   ]
  },
  {
   "cell_type": "code",
   "execution_count": 5,
   "id": "1d57ff5c",
   "metadata": {},
   "outputs": [],
   "source": [
    "def run_step_by_step_demo():\n",
    "    \"\"\"Run demo with manual step control (for Jupyter cells)\"\"\"\n",
    "    demo = TwitterFinancialDemo()\n",
    "    \n",
    "    # Display header\n",
    "    demo.display_header()\n",
    "    demo.display_architecture()\n",
    "    \n",
    "    return demo"
   ]
  },
  {
   "cell_type": "code",
   "execution_count": 6,
   "id": "1aea8b57",
   "metadata": {},
   "outputs": [
    {
     "name": "stdout",
     "output_type": "stream",
     "text": [
      "🚀 Running Twitter Financial Flow Demo...\n"
     ]
    },
    {
     "data": {
      "text/html": [
       "\n",
       "        <div style=\"background: linear-gradient(135deg, #667eea 0%, #764ba2 100%); \n",
       "                    padding: 20px; border-radius: 10px; color: white; text-align: center;\">\n",
       "            <h1>🚀 CrowdWisdomTrading AI Agent</h1>\n",
       "            <h2>Twitter Financial Markets User Finder</h2>\n",
       "            <p style=\"font-size: 16px; margin-top: 15px;\">\n",
       "                CrewAI-powered multi-agent system for discovering financial content creators\n",
       "            </p>\n",
       "        </div>\n",
       "        "
      ],
      "text/plain": [
       "<IPython.core.display.HTML object>"
      ]
     },
     "metadata": {},
     "output_type": "display_data"
    },
    {
     "data": {
      "text/html": [
       "\n",
       "        <div style=\"background: #f8f9fa; padding: 20px; border-radius: 8px; margin: 20px 0;\">\n",
       "            <h3>🏗️ System Architecture</h3>\n",
       "            <div style=\"display: flex; justify-content: space-around; margin: 20px 0;\">\n",
       "                <div style=\"text-align: center; padding: 15px; background: #e3f2fd; border-radius: 8px;\">\n",
       "                    <h4>📝 Keyword Agent</h4>\n",
       "                    <p>Generates financial market search terms</p>\n",
       "                </div>\n",
       "                <div style=\"text-align: center; padding: 15px; background: #f3e5f5; border-radius: 8px;\">\n",
       "                    <h4>🔍 Search Agent</h4>\n",
       "                    <p>Finds Twitter users posting financial content</p>\n",
       "                </div>\n",
       "                <div style=\"text-align: center; padding: 15px; background: #e8f5e8; border-radius: 8px;\">\n",
       "                    <h4>📊 Formatter Agent</h4>\n",
       "                    <p>Structures results into JSON format</p>\n",
       "                </div>\n",
       "            </div>\n",
       "        </div>\n",
       "        "
      ],
      "text/plain": [
       "<IPython.core.display.HTML object>"
      ]
     },
     "metadata": {},
     "output_type": "display_data"
    },
    {
     "name": "stdout",
     "output_type": "stream",
     "text": [
      "\u001b[32m12:29:51\u001b[0m | \u001b[1mINFO    \u001b[0m | 🚀 Starting Twitter Financial Flow Demo...\n"
     ]
    },
    {
     "data": {
      "text/html": [
       "\n",
       "        <div style=\"background: #fff3cd; padding: 15px; border-radius: 8px; margin: 10px 0; border-left: 4px solid #ffc107;\">\n",
       "            <h4>⚡ Keyword Generation</h4>\n",
       "            <p>CrewAI Keyword Agent generating optimized search terms for US financial markets</p>\n",
       "            <div style=\"background: #ffc107; height: 4px; border-radius: 2px; animation: pulse 1s infinite;\"></div>\n",
       "        </div>\n",
       "        "
      ],
      "text/plain": [
       "<IPython.core.display.HTML object>"
      ]
     },
     "metadata": {},
     "output_type": "display_data"
    },
    {
     "data": {
      "text/html": [
       "\n",
       "        <div style=\"background: #d4edda; padding: 15px; border-radius: 8px; margin: 10px 0;\">\n",
       "            <h4>✅ Generated Keywords (28 terms)</h4>\n",
       "            <div style=\"display: flex; flex-wrap: wrap; gap: 8px; margin-top: 10px;\">\n",
       "                <span style=\"background: #28a745; color: white; padding: 4px 8px; border-radius: 4px; font-size: 12px;\">stocks</span><span style=\"background: #28a745; color: white; padding: 4px 8px; border-radius: 4px; font-size: 12px;\">trading</span><span style=\"background: #28a745; color: white; padding: 4px 8px; border-radius: 4px; font-size: 12px;\">SPY</span><span style=\"background: #28a745; color: white; padding: 4px 8px; border-radius: 4px; font-size: 12px;\">QQQ</span><span style=\"background: #28a745; color: white; padding: 4px 8px; border-radius: 4px; font-size: 12px;\">#StockMarket</span><span style=\"background: #28a745; color: white; padding: 4px 8px; border-radius: 4px; font-size: 12px;\">bullish</span><span style=\"background: #28a745; color: white; padding: 4px 8px; border-radius: 4px; font-size: 12px;\">bearish</span><span style=\"background: #28a745; color: white; padding: 4px 8px; border-radius: 4px; font-size: 12px;\">Bitcoin</span><span style=\"background: #28a745; color: white; padding: 4px 8px; border-radius: 4px; font-size: 12px;\">BTC</span><span style=\"background: #28a745; color: white; padding: 4px 8px; border-radius: 4px; font-size: 12px;\">ETH</span><span style=\"background: #28a745; color: white; padding: 4px 8px; border-radius: 4px; font-size: 12px;\">crypto</span><span style=\"background: #28a745; color: white; padding: 4px 8px; border-radius: 4px; font-size: 12px;\">DeFi</span><span style=\"background: #28a745; color: white; padding: 4px 8px; border-radius: 4px; font-size: 12px;\">forex</span><span style=\"background: #28a745; color: white; padding: 4px 8px; border-radius: 4px; font-size: 12px;\">gold</span><span style=\"background: #28a745; color: white; padding: 4px 8px; border-radius: 4px; font-size: 12px;\">oil</span>\n",
       "                <span style=\"color: #666;\">... and 13 more</span>\n",
       "            </div>\n",
       "        </div>\n",
       "        "
      ],
      "text/plain": [
       "<IPython.core.display.HTML object>"
      ]
     },
     "metadata": {},
     "output_type": "display_data"
    },
    {
     "data": {
      "text/html": [
       "\n",
       "        <div style=\"background: #fff3cd; padding: 15px; border-radius: 8px; margin: 10px 0; border-left: 4px solid #ffc107;\">\n",
       "            <h4>⚡ User Search</h4>\n",
       "            <p>CrewAI Search Agent finding Twitter users posting about financial markets</p>\n",
       "            <div style=\"background: #ffc107; height: 4px; border-radius: 2px; animation: pulse 1s infinite;\"></div>\n",
       "        </div>\n",
       "        "
      ],
      "text/plain": [
       "<IPython.core.display.HTML object>"
      ]
     },
     "metadata": {},
     "output_type": "display_data"
    },
    {
     "data": {
      "text/html": [
       "\n",
       "        <div style=\"background: #d1ecf1; padding: 15px; border-radius: 8px; margin: 10px 0;\">\n",
       "            <h4>✅ Search Completed</h4>\n",
       "            <p><strong>Search Query:</strong> <code>(stocks trading SPY QQQ #StockMarket bullish bearis...) -is:retweet lang:en</code></p>\n",
       "            <p><strong>Users Found:</strong> 156 unique users posting financial content</p>\n",
       "            <p><strong>API Calls:</strong> 12 requests (within rate limits)</p>\n",
       "        </div>\n",
       "        "
      ],
      "text/plain": [
       "<IPython.core.display.HTML object>"
      ]
     },
     "metadata": {},
     "output_type": "display_data"
    },
    {
     "data": {
      "text/html": [
       "\n",
       "        <div style=\"background: #fff3cd; padding: 15px; border-radius: 8px; margin: 10px 0; border-left: 4px solid #ffc107;\">\n",
       "            <h4>⚡ User Filtering</h4>\n",
       "            <p>Applying filters: 5000+ followers and 5+ tweets in last 2 weeks</p>\n",
       "            <div style=\"background: #ffc107; height: 4px; border-radius: 2px; animation: pulse 1s infinite;\"></div>\n",
       "        </div>\n",
       "        "
      ],
      "text/plain": [
       "<IPython.core.display.HTML object>"
      ]
     },
     "metadata": {},
     "output_type": "display_data"
    },
    {
     "data": {
      "text/html": [
       "\n",
       "        <div style=\"background: #f8d7da; padding: 15px; border-radius: 8px; margin: 10px 0;\">\n",
       "            <h4>✅ Filtering Completed</h4>\n",
       "            <div style=\"display: grid; grid-template-columns: 1fr 1fr 1fr; gap: 15px; margin-top: 15px;\">\n",
       "                <div style=\"text-align: center; padding: 10px; background: #fff; border-radius: 6px;\">\n",
       "                    <h3 style=\"color: #007bff; margin: 0;\">156</h3>\n",
       "                    <p style=\"margin: 5px 0; font-size: 14px;\">Initial Users</p>\n",
       "                </div>\n",
       "                <div style=\"text-align: center; padding: 10px; background: #fff; border-radius: 6px;\">\n",
       "                    <h3 style=\"color: #ffc107; margin: 0;\">62</h3>\n",
       "                    <p style=\"margin: 5px 0; font-size: 14px;\">5000+ Followers</p>\n",
       "                </div>\n",
       "                <div style=\"text-align: center; padding: 10px; background: #fff; border-radius: 6px;\">\n",
       "                    <h3 style=\"color: #28a745; margin: 0;\">37</h3>\n",
       "                    <p style=\"margin: 5px 0; font-size: 14px;\">Final Qualified</p>\n",
       "                </div>\n",
       "            </div>\n",
       "            <p style=\"margin-top: 15px;\"><strong>Success Rate:</strong> 23.7%</p>\n",
       "        </div>\n",
       "        "
      ],
      "text/plain": [
       "<IPython.core.display.HTML object>"
      ]
     },
     "metadata": {},
     "output_type": "display_data"
    },
    {
     "data": {
      "text/html": [
       "\n",
       "        <div style=\"background: #fff3cd; padding: 15px; border-radius: 8px; margin: 10px 0; border-left: 4px solid #ffc107;\">\n",
       "            <h4>⚡ JSON Formatting</h4>\n",
       "            <p>CrewAI Formatter Agent structuring results with comprehensive statistics</p>\n",
       "            <div style=\"background: #ffc107; height: 4px; border-radius: 2px; animation: pulse 1s infinite;\"></div>\n",
       "        </div>\n",
       "        "
      ],
      "text/plain": [
       "<IPython.core.display.HTML object>"
      ]
     },
     "metadata": {},
     "output_type": "display_data"
    },
    {
     "data": {
      "text/html": [
       "\n",
       "        <div style=\"background: #d4edda; padding: 15px; border-radius: 8px; margin: 10px 0;\">\n",
       "            <h4>✅ JSON Formatting Completed</h4>\n",
       "            <p>Structured output created with metadata, statistics, and user profiles</p>\n",
       "            <p><strong>Output includes:</strong> User profiles, comprehensive statistics, processing details</p>\n",
       "        </div>\n",
       "        "
      ],
      "text/plain": [
       "<IPython.core.display.HTML object>"
      ]
     },
     "metadata": {},
     "output_type": "display_data"
    },
    {
     "data": {
      "text/html": [
       "\n",
       "        <div style=\"background: linear-gradient(135deg, #28a745 0%, #20c997 100%); \n",
       "                    padding: 20px; border-radius: 10px; color: white; margin: 20px 0;\">\n",
       "            <h2>🎉 Results Summary</h2>\n",
       "            <div style=\"display: grid; grid-template-columns: repeat(auto-fit, minmax(200px, 1fr)); gap: 15px; margin-top: 15px;\">\n",
       "                <div style=\"background: rgba(255,255,255,0.2); padding: 15px; border-radius: 8px; text-align: center;\">\n",
       "                    <h3>156</h3>\n",
       "                    <p>Total Users Found</p>\n",
       "                </div>\n",
       "                <div style=\"background: rgba(255,255,255,0.2); padding: 15px; border-radius: 8px; text-align: center;\">\n",
       "                    <h3>37</h3>\n",
       "                    <p>Qualified Users</p>\n",
       "                </div>\n",
       "                <div style=\"background: rgba(255,255,255,0.2); padding: 15px; border-radius: 8px; text-align: center;\">\n",
       "                    <h3>23.7%</h3>\n",
       "                    <p>Success Rate</p>\n",
       "                </div>\n",
       "                <div style=\"background: rgba(255,255,255,0.2); padding: 15px; border-radius: 8px; text-align: center;\">\n",
       "                    <h3>17,000</h3>\n",
       "                    <p>Avg Followers</p>\n",
       "                </div>\n",
       "            </div>\n",
       "        </div>\n",
       "        "
      ],
      "text/plain": [
       "<IPython.core.display.HTML object>"
      ]
     },
     "metadata": {},
     "output_type": "display_data"
    },
    {
     "data": {
      "text/html": [
       "<h3>👥 Qualified Financial Content Creators</h3>"
      ],
      "text/plain": [
       "<IPython.core.display.HTML object>"
      ]
     },
     "metadata": {},
     "output_type": "display_data"
    },
    {
     "data": {
      "text/html": [
       "<div>\n",
       "<style scoped>\n",
       "    .dataframe tbody tr th:only-of-type {\n",
       "        vertical-align: middle;\n",
       "    }\n",
       "\n",
       "    .dataframe tbody tr th {\n",
       "        vertical-align: top;\n",
       "    }\n",
       "\n",
       "    .dataframe thead th {\n",
       "        text-align: right;\n",
       "    }\n",
       "</style>\n",
       "<table border=\"1\" class=\"dataframe\">\n",
       "  <thead>\n",
       "    <tr style=\"text-align: right;\">\n",
       "      <th></th>\n",
       "      <th>username</th>\n",
       "      <th>followers</th>\n",
       "      <th>avg_posts_per_week</th>\n",
       "      <th>verified</th>\n",
       "      <th>recent_tweets_count</th>\n",
       "    </tr>\n",
       "  </thead>\n",
       "  <tbody>\n",
       "    <tr>\n",
       "      <th>0</th>\n",
       "      <td>FinancialWizard</td>\n",
       "      <td>15,200</td>\n",
       "      <td>9.0</td>\n",
       "      <td>✅</td>\n",
       "      <td>18</td>\n",
       "    </tr>\n",
       "    <tr>\n",
       "      <th>1</th>\n",
       "      <td>CryptoTrader_Pro</td>\n",
       "      <td>8,900</td>\n",
       "      <td>6.5</td>\n",
       "      <td>❌</td>\n",
       "      <td>13</td>\n",
       "    </tr>\n",
       "    <tr>\n",
       "      <th>2</th>\n",
       "      <td>StockAnalytics</td>\n",
       "      <td>28,500</td>\n",
       "      <td>11.5</td>\n",
       "      <td>✅</td>\n",
       "      <td>23</td>\n",
       "    </tr>\n",
       "    <tr>\n",
       "      <th>3</th>\n",
       "      <td>MarketMaven</td>\n",
       "      <td>12,800</td>\n",
       "      <td>7.5</td>\n",
       "      <td>❌</td>\n",
       "      <td>15</td>\n",
       "    </tr>\n",
       "    <tr>\n",
       "      <th>4</th>\n",
       "      <td>TradingSignals</td>\n",
       "      <td>19,600</td>\n",
       "      <td>8.5</td>\n",
       "      <td>✅</td>\n",
       "      <td>17</td>\n",
       "    </tr>\n",
       "  </tbody>\n",
       "</table>\n",
       "</div>"
      ],
      "text/plain": [
       "           username followers  avg_posts_per_week verified  \\\n",
       "0   FinancialWizard    15,200                 9.0        ✅   \n",
       "1  CryptoTrader_Pro     8,900                 6.5        ❌   \n",
       "2    StockAnalytics    28,500                11.5        ✅   \n",
       "3       MarketMaven    12,800                 7.5        ❌   \n",
       "4    TradingSignals    19,600                 8.5        ✅   \n",
       "\n",
       "   recent_tweets_count  \n",
       "0                   18  \n",
       "1                   13  \n",
       "2                   23  \n",
       "3                   15  \n",
       "4                   17  "
      ]
     },
     "metadata": {},
     "output_type": "display_data"
    },
    {
     "data": {
      "text/html": [
       "<h3>📊 Data Visualizations</h3>"
      ],
      "text/plain": [
       "<IPython.core.display.HTML object>"
      ]
     },
     "metadata": {},
     "output_type": "display_data"
    },
    {
     "data": {
      "image/png": "[encoded data removed]",
      "text/plain": [
       "<Figure size 1080x720 with 4 Axes>"
      ]
     },
     "metadata": {
      "needs_background": "light"
     },
     "output_type": "display_data"
    },
    {
     "data": {
      "text/html": [
       "<h3>📄 Complete JSON Output</h3>"
      ],
      "text/plain": [
       "<IPython.core.display.HTML object>"
      ]
     },
     "metadata": {},
     "output_type": "display_data"
    },
    {
     "data": {
      "application/json": {
       "metadata": {
        "filter_criteria": {
         "min_followers": 5000,
         "min_tweets_2weeks": 5
        },
        "processing_time_seconds": 10.657756328582764,
        "status": "completed",
        "timestamp": "2025-09-09T12:30:02.349906"
       },
       "statistics": {
        "avg_followers_filtered_users": 17000,
        "filter_success_rate": 0.23717948717948714,
        "total_users_filtered": 37,
        "total_users_found": 156
       },
       "users": [
        {
         "avg_posts_per_week": 9,
         "followers": 15200,
         "recent_tweets_count": 18,
         "url": "https://twitter.com/FinancialWizard",
         "username": "FinancialWizard",
         "verified": true
        },
        {
         "avg_posts_per_week": 6.5,
         "followers": 8900,
         "recent_tweets_count": 13,
         "url": "https://twitter.com/CryptoTrader_Pro",
         "username": "CryptoTrader_Pro",
         "verified": false
        },
        {
         "avg_posts_per_week": 11.5,
         "followers": 28500,
         "recent_tweets_count": 23,
         "url": "https://twitter.com/StockAnalytics",
         "username": "StockAnalytics",
         "verified": true
        },
        {
         "avg_posts_per_week": 7.5,
         "followers": 12800,
         "recent_tweets_count": 15,
         "url": "https://twitter.com/MarketMaven",
         "username": "MarketMaven",
         "verified": false
        },
        {
         "avg_posts_per_week": 8.5,
         "followers": 19600,
         "recent_tweets_count": 17,
         "url": "https://twitter.com/TradingSignals",
         "username": "TradingSignals",
         "verified": true
        }
       ]
      },
      "text/plain": [
       "<IPython.core.display.JSON object>"
      ]
     },
     "metadata": {
      "application/json": {
       "expanded": false,
       "root": "root"
      }
     },
     "output_type": "display_data"
    },
    {
     "data": {
      "text/html": [
       "\n",
       "        <div style=\"background: #cce5ff; padding: 15px; border-radius: 8px; margin: 10px 0; border: 2px solid #007bff;\">\n",
       "            <h4>💾 Results Saved</h4>\n",
       "            <p><strong>Filename:</strong> <code>jupyter_demo_results_20250909_123002.json</code></p>\n",
       "            <p>Complete JSON output with metadata and statistics has been saved to disk.</p>\n",
       "        </div>\n",
       "        "
      ],
      "text/plain": [
       "<IPython.core.display.HTML object>"
      ]
     },
     "metadata": {},
     "output_type": "display_data"
    },
    {
     "data": {
      "text/html": [
       "\n",
       "        <div style=\"background: linear-gradient(135deg, #ff6b6b 0%, #feca57 100%); \n",
       "                    padding: 20px; border-radius: 10px; color: white; text-align: center; margin: 20px 0;\">\n",
       "            <h2>🎊 Demo Completed Successfully!</h2>\n",
       "            <p style=\"font-size: 18px;\">CrewAI Flow executed all steps with comprehensive results</p>\n",
       "            <p>Ready for CrowdWisdomTrading internship submission! 🚀</p>\n",
       "        </div>\n",
       "        "
      ],
      "text/plain": [
       "<IPython.core.display.HTML object>"
      ]
     },
     "metadata": {},
     "output_type": "display_data"
    },
    {
     "name": "stdout",
     "output_type": "stream",
     "text": [
      "\n",
      "✅ Demo completed! Found 5 qualified users.\n"
     ]
    }
   ],
   "source": [
    "# Standalone execution\n",
    "if __name__ == \"__main__\":\n",
    "    print(\"🚀 Running Twitter Financial Flow Demo...\")\n",
    "    demo = TwitterFinancialDemo()\n",
    "    results = demo.run_complete_demo()\n",
    "    print(f\"\\n✅ Demo completed! Found {len(results['users'])} qualified users.\")"
   ]
  },
  {
   "cell_type": "code",
   "execution_count": null,
   "id": "1fc2c0d3",
   "metadata": {},
   "outputs": [],
   "source": []
  }
 ],
 "metadata": {
  "kernelspec": {
   "display_name": "Python 3",
   "language": "python",
   "name": "python3"
  },
  "language_info": {
   "codemirror_mode": {
    "name": "ipython",
    "version": 3
   },
   "file_extension": ".py",
   "mimetype": "text/x-python",
   "name": "python",
   "nbconvert_exporter": "python",
   "pygments_lexer": "ipython3",
   "version": "3.10.12"
  }
 },
 "nbformat": 4,
 "nbformat_minor": 5
}
